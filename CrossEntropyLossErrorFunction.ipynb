{
  "nbformat": 4,
  "nbformat_minor": 0,
  "metadata": {
    "colab": {
      "name": "CrossEntropyLossErrorFunction.ipynb",
      "provenance": [],
      "authorship_tag": "ABX9TyM9yezSakZjXbN5oY0gUG9R",
      "include_colab_link": true
    },
    "kernelspec": {
      "name": "python3",
      "display_name": "Python 3"
    },
    "language_info": {
      "name": "python"
    }
  },
  "cells": [
    {
      "cell_type": "markdown",
      "metadata": {
        "id": "view-in-github",
        "colab_type": "text"
      },
      "source": [
        "<a href=\"https://colab.research.google.com/github/maryamshahani/CrossEntropyLossFunction/blob/main/CrossEntropyLossErrorFunction.ipynb\" target=\"_parent\"><img src=\"https://colab.research.google.com/assets/colab-badge.svg\" alt=\"Open In Colab\"/></a>"
      ]
    },
    {
      "cell_type": "code",
      "execution_count": 6,
      "metadata": {
        "id": "5cL5Gor9OCcY"
      },
      "outputs": [],
      "source": [
        "import math"
      ]
    },
    {
      "cell_type": "code",
      "source": [
        "input_data = [(0.26, 1), (0.20, 0), (0.48, 1), (0.30, 0)] #tuple of waited_sums and targets\n",
        "\n",
        "def cross_entropy(input_data):\n",
        "  loss = 0\n",
        "  n = len(input_data)\n",
        "  for entry in input_data:\n",
        "    w_sum = entry[0]\n",
        "    y = entry[1]\n",
        "    loss += -(y*math.log10(w_sum) + (1-y)*math.log10(1-w_sum))\n",
        "    print(-(y*math.log10(w_sum) + (1-y)*math.log10(1-w_sum)))\n",
        "  return loss/n\n",
        "\n",
        "error_term = cross_entropy(input_data)\n",
        "print(\"error_term = \" , error_term)  \n"
      ],
      "metadata": {
        "colab": {
          "base_uri": "https://localhost:8080/"
        },
        "id": "XeVlasXPO5eY",
        "outputId": "580fc51b-81f5-4c8f-89aa-0352c066e7ba"
      },
      "execution_count": 7,
      "outputs": [
        {
          "output_type": "stream",
          "name": "stdout",
          "text": [
            "0.585026652029182\n",
            "0.09691001300805639\n",
            "0.3187587626244128\n",
            "0.1549019599857432\n",
            "error_term =  0.2888993469118486\n"
          ]
        }
      ]
    }
  ]
}